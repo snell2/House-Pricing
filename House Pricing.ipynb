{
 "cells": [
  {
   "cell_type": "code",
   "execution_count": 128,
   "metadata": {},
   "outputs": [],
   "source": [
    "import pandas as pd\n",
    "import numpy as np\n",
    "from sklearn.preprocessing import OrdinalEncoder\n",
    "from sklearn.impute import KNNImputer\n",
    "pd.set_option('max_columns', 120)\n",
    "from sklearn.ensemble import RandomForestRegressor,GradientBoostingRegressor\n",
    "from sklearn.linear_model import LinearRegression\n",
    "from sklearn.model_selection import train_test_split\n",
    "from sklearn.neighbors import KNeighborsRegressor\n",
    "from sklearn import svm\n",
    "from sklearn.preprocessing import MinMaxScaler,StandardScaler\n",
    "import seaborn as sns\n",
    "from sklearn.svm import SVR\n",
    "from sklearn.metrics import mean_squared_log_error,mean_squared_error\n",
    "import matplotlib as plt\n",
    "import warnings\n",
    "warnings.filterwarnings('ignore')\n",
    "import math"
   ]
  },
  {
   "cell_type": "code",
   "execution_count": 129,
   "metadata": {},
   "outputs": [],
   "source": [
    "train_df = pd.read_csv('train.csv')\n",
    "test_df = pd.read_csv('test.csv')"
   ]
  },
  {
   "cell_type": "code",
   "execution_count": 130,
   "metadata": {},
   "outputs": [],
   "source": [
    "y = train_df['SalePrice']\n",
    "train_df = train_df.drop(columns='SalePrice')"
   ]
  },
  {
   "cell_type": "code",
   "execution_count": 131,
   "metadata": {},
   "outputs": [],
   "source": [
    "df = train_df.append(test_df,ignore_index=True)"
   ]
  },
  {
   "cell_type": "code",
   "execution_count": 132,
   "metadata": {
    "scrolled": true
   },
   "outputs": [
    {
     "data": {
      "text/plain": [
       "object     43\n",
       "int64      26\n",
       "float64    11\n",
       "dtype: int64"
      ]
     },
     "execution_count": 132,
     "metadata": {},
     "output_type": "execute_result"
    }
   ],
   "source": [
    "df.dtypes.value_counts()"
   ]
  },
  {
   "cell_type": "code",
   "execution_count": null,
   "metadata": {},
   "outputs": [],
   "source": []
  },
  {
   "cell_type": "code",
   "execution_count": 133,
   "metadata": {},
   "outputs": [],
   "source": [
    "def encode(data):\n",
    "    encoder = OrdinalEncoder()\n",
    "    '''function to encode non-null data and replace it in the original data'''\n",
    "    #retains only non-null values\n",
    "    nonulls = np.array(data.dropna())\n",
    "    #reshapes the data for encoding\n",
    "    impute_reshape = nonulls.reshape(-1,1)\n",
    "    #encode date\n",
    "    impute_ordinal = encoder.fit_transform(impute_reshape)\n",
    "    #Assign back encoded values to non-null values\n",
    "    data.loc[data.notnull()] = np.squeeze(impute_ordinal)\n",
    "    return data"
   ]
  },
  {
   "cell_type": "code",
   "execution_count": null,
   "metadata": {},
   "outputs": [],
   "source": []
  },
  {
   "cell_type": "code",
   "execution_count": 134,
   "metadata": {},
   "outputs": [],
   "source": [
    "def enc_imp(df):\n",
    "    for i in df.columns:\n",
    "        if df.dtypes[i] == 'int64':\n",
    "            pass\n",
    "        elif df.dtypes[i] == 'float64':\n",
    "            pass\n",
    "        else:\n",
    "            df[i] = encode(df[i])\n",
    "            \n",
    "    imputer = KNNImputer(n_neighbors=2)\n",
    "\n",
    "    null_col = df[df.columns[df.isnull().any()]].isnull()\n",
    "\n",
    "    for i in null_col:\n",
    "        df[i] = imputer.fit_transform(df[[i]].values)\n",
    "    return df"
   ]
  },
  {
   "cell_type": "code",
   "execution_count": 135,
   "metadata": {},
   "outputs": [],
   "source": [
    "df = enc_imp(df)"
   ]
  },
  {
   "cell_type": "markdown",
   "metadata": {},
   "source": [
    "### Columns Pre-processing"
   ]
  },
  {
   "cell_type": "code",
   "execution_count": 136,
   "metadata": {},
   "outputs": [],
   "source": [
    "#MSSubClass \n",
    "for i in range(len(df['MSSubClass'])):\n",
    "    val = df['MSSubClass'][i]\n",
    "    if val >= 20 and val <= 40:\n",
    "        new_val = 1\n",
    "    elif val >40 and val <= 50:\n",
    "        new_val = 2\n",
    "    elif val >50 and val <= 75:\n",
    "        new_val = 3\n",
    "    elif val >75 and val <= 90:\n",
    "        new_val = 4\n",
    "    elif val >90 and val <= 160:\n",
    "        new_val = 5\n",
    "    elif val >160 and val <= 190:\n",
    "        new_value = 6\n",
    "    \n",
    "    df['MSSubClass'][i] = new_val"
   ]
  },
  {
   "cell_type": "code",
   "execution_count": 137,
   "metadata": {},
   "outputs": [],
   "source": [
    "#OverallQual \n",
    "for i in range(len(df['OverallQual'])):\n",
    "    val = df['OverallQual'][i]\n",
    "    if val >= 1 and val <= 4: \n",
    "        new_val = 1 #Below Average\n",
    "    elif val == 5:\n",
    "        new_val = 2 # Average\n",
    "    elif val >5 and val <= 9:\n",
    "        new_val = 3 # Above Average\n",
    "    elif val > 9:\n",
    "        new_val = 4 # Awesome\n",
    "    \n",
    "    \n",
    "    df['OverallQual'][i] = new_val"
   ]
  },
  {
   "cell_type": "code",
   "execution_count": 138,
   "metadata": {},
   "outputs": [],
   "source": [
    "#MoSold\n",
    "for i in range(len(df['MoSold'])):\n",
    "    val = df['MoSold'][i]\n",
    "    if val >= 1 and val <= 3: \n",
    "        new_val = 1 #1st quarter\n",
    "    elif val > 3 and val <= 6:\n",
    "        new_val = 2 # 2nd quarter\n",
    "    elif val > 6 and val <= 9:\n",
    "        new_val = 3 # 3rd quarter\n",
    "    elif val > 9:\n",
    "        new_val = 4 # 4th quarter\n",
    "    \n",
    "    \n",
    "    df['MoSold'][i] = new_val"
   ]
  },
  {
   "cell_type": "code",
   "execution_count": 139,
   "metadata": {},
   "outputs": [],
   "source": [
    "#GarageYrBlt \n",
    "def yr_cha(df,col):\n",
    "    for i in range(len(df[col])):\n",
    "        val = df[col][i]\n",
    "        if val >= 1850 and val <= 1900:\n",
    "            new_val = 1\n",
    "        elif val >1900 and val <= 1950:\n",
    "            new_val = 2\n",
    "        elif val >1950 and val <= 2000:\n",
    "            new_val = 3\n",
    "        elif val >2000 and val <= 2050:\n",
    "            new_val = 4\n",
    "        \n",
    "        df[col][i] = new_val\n",
    "    \n",
    "    return df[col]\n",
    "\n",
    "df['GarageYrBlt'] = yr_cha(df,'GarageYrBlt')\n"
   ]
  },
  {
   "cell_type": "code",
   "execution_count": null,
   "metadata": {},
   "outputs": [],
   "source": []
  },
  {
   "cell_type": "code",
   "execution_count": 140,
   "metadata": {},
   "outputs": [],
   "source": [
    "# Removing fireplaces quality if there are no fireplaces in the house\n",
    "for i in range(len(df)):\n",
    "    if df['Fireplaces'][i] == 0:\n",
    "        df['FireplaceQu'][i] = 0"
   ]
  },
  {
   "cell_type": "code",
   "execution_count": 141,
   "metadata": {},
   "outputs": [],
   "source": [
    "df['GarageYrBlt'] = df['GarageYrBlt'].astype(int)"
   ]
  },
  {
   "cell_type": "code",
   "execution_count": 142,
   "metadata": {},
   "outputs": [],
   "source": [
    "df['Bath'] = df['FullBath'] +(0.5 * df['HalfBath'] + df['BsmtFullBath']+ (0.5 * df['BsmtHalfBath'])) \n",
    "df['Total_rooms'] = df['Bath'] + df['TotRmsAbvGrd'] * df['BedroomAbvGr']"
   ]
  },
  {
   "cell_type": "code",
   "execution_count": 143,
   "metadata": {},
   "outputs": [],
   "source": [
    "df['Garage_cond'] = df['GarageQual'] * df['GarageCond'] * df['GarageFinish']"
   ]
  },
  {
   "cell_type": "code",
   "execution_count": 144,
   "metadata": {},
   "outputs": [],
   "source": [
    "df['Fireplace_cond'] = df['ExterQual'] * df['ExterCond']"
   ]
  },
  {
   "cell_type": "code",
   "execution_count": 145,
   "metadata": {},
   "outputs": [],
   "source": [
    "df['Fireplace_cond'] = df['Fireplaces'] * df['FireplaceQu']"
   ]
  },
  {
   "cell_type": "code",
   "execution_count": 146,
   "metadata": {},
   "outputs": [],
   "source": [
    "df['Bsmt_cond'] = df['BsmtQual'] * df['BsmtCond']"
   ]
  },
  {
   "cell_type": "code",
   "execution_count": 147,
   "metadata": {},
   "outputs": [],
   "source": [
    "df['Bsmt_type'] = df['BsmtFinType1'] + df['BsmtFinType2']"
   ]
  },
  {
   "cell_type": "code",
   "execution_count": 148,
   "metadata": {},
   "outputs": [],
   "source": [
    "df['Total_sft'] = df['1stFlrSF']+df['2ndFlrSF']+df['GrLivArea']"
   ]
  },
  {
   "cell_type": "code",
   "execution_count": 149,
   "metadata": {},
   "outputs": [],
   "source": [
    "df['Overall_cond'] = df['OverallQual'] * df['OverallCond'] * df['Fence']"
   ]
  },
  {
   "cell_type": "code",
   "execution_count": 150,
   "metadata": {},
   "outputs": [],
   "source": [
    "for i in range(len(df)):\n",
    "    if not df['GarageCars'][i] == 0.0:\n",
    "        df['GarageArea'][i] /= df['GarageCars'][i]\n",
    "        df['GarageCars'][i] = 0\n",
    "df['Per_car_area'] = df['GarageArea']"
   ]
  },
  {
   "cell_type": "code",
   "execution_count": 151,
   "metadata": {},
   "outputs": [],
   "source": [
    "df['Heat_cond'] = df['Heating'] + df['HeatingQC']"
   ]
  },
  {
   "cell_type": "code",
   "execution_count": 152,
   "metadata": {},
   "outputs": [],
   "source": [
    "df['Porch'] = df['OpenPorchSF'] + df['EnclosedPorch'] + df['WoodDeckSF']"
   ]
  },
  {
   "cell_type": "code",
   "execution_count": 153,
   "metadata": {},
   "outputs": [],
   "source": [
    "df['Tot_lot_area'] = df['LotFrontage'] + df['LotArea']"
   ]
  },
  {
   "cell_type": "code",
   "execution_count": 154,
   "metadata": {},
   "outputs": [],
   "source": [
    "df['lot_cond'] = df['LotShape'] + df['LotConfig']"
   ]
  },
  {
   "cell_type": "code",
   "execution_count": 155,
   "metadata": {},
   "outputs": [],
   "source": [
    "df['Fin_bsmt'] = df['TotalBsmtSF'] - df['BsmtUnfSF']"
   ]
  },
  {
   "cell_type": "code",
   "execution_count": 156,
   "metadata": {},
   "outputs": [],
   "source": [
    "# Months house in good condition\n",
    "for i in range(len(df)):\n",
    "    if df['YearBuilt'][i] == df['YearRemodAdd'][i]:\n",
    "        pass\n",
    "    else:\n",
    "        df['YearBuilt'][i] = df['YearRemodAdd'][i]\n",
    "        \n",
    "df['House_months'] = (abs(df['YrSold'] - df['YearBuilt']))*12 + df['MoSold']"
   ]
  },
  {
   "cell_type": "code",
   "execution_count": 157,
   "metadata": {},
   "outputs": [],
   "source": [
    "# 1 for only one ext/cond type and 2 for 2nd type\n",
    "def cond(col1,col2):\n",
    "    cond_typ = []\n",
    "    for i in range(len(df)):\n",
    "        if df[col1][i] == df[col2][i]:\n",
    "            cond = 1\n",
    "        else:\n",
    "            cond = 2\n",
    "    \n",
    "        cond_typ.append(cond)\n",
    "    return cond_typ\n",
    "\n",
    "df['Ext_type'] = cond('Exterior1st','Exterior2nd')\n",
    "#df['H_cond_type'] = cond('Condition1','Condition2')"
   ]
  },
  {
   "cell_type": "code",
   "execution_count": null,
   "metadata": {},
   "outputs": [],
   "source": []
  },
  {
   "cell_type": "code",
   "execution_count": null,
   "metadata": {},
   "outputs": [],
   "source": []
  },
  {
   "cell_type": "code",
   "execution_count": 158,
   "metadata": {},
   "outputs": [],
   "source": [
    "col_names=['Bath','FullBath','HalfBath','BsmtFullBath','BsmtHalfBath','TotRmsAbvGrd','BedroomAbvGr',\n",
    "          'GarageQual','GarageCond','GarageFinish',\n",
    "          'ExterQual','ExterCond','Fireplaces','FireplaceQu','BsmtQual','BsmtCond',\n",
    "          'BsmtFinType1','BsmtFinType2','1stFlrSF','2ndFlrSF','GrLivArea',\n",
    "          'OverallQual','OverallCond','Fence','GarageCars','GarageArea',\n",
    "          'Heating','HeatingQC','OpenPorchSF','EnclosedPorch','WoodDeckSF',\n",
    "          'LotFrontage','LotArea','LotShape','LotConfig',\n",
    "          'BsmtFinSF1','TotalBsmtSF','BsmtUnfSF','YearBuilt','YearRemodAdd','YrSold','MoSold',\n",
    "          'Exterior1st','Exterior2nd']\n",
    "\n",
    "\n",
    "df=df.drop(columns=col_names)"
   ]
  },
  {
   "cell_type": "code",
   "execution_count": null,
   "metadata": {},
   "outputs": [],
   "source": []
  },
  {
   "cell_type": "code",
   "execution_count": 159,
   "metadata": {},
   "outputs": [],
   "source": [
    "remove_col = ['Id']\n",
    "for i in df.columns:\n",
    "    val = df[i].value_counts(normalize = True, dropna = False).tolist()\n",
    "    if val[0] >= 0.65:\n",
    "        remove_col.append(i)\n",
    "\n",
    "df=df.drop(columns=remove_col)"
   ]
  },
  {
   "cell_type": "code",
   "execution_count": null,
   "metadata": {},
   "outputs": [],
   "source": []
  },
  {
   "cell_type": "code",
   "execution_count": null,
   "metadata": {},
   "outputs": [],
   "source": []
  },
  {
   "cell_type": "code",
   "execution_count": null,
   "metadata": {},
   "outputs": [],
   "source": []
  },
  {
   "cell_type": "code",
   "execution_count": 160,
   "metadata": {
    "scrolled": true
   },
   "outputs": [
    {
     "data": {
      "text/plain": [
       "20.000000    0.072970\n",
       "23.500000    0.048989\n",
       "23.000000    0.043165\n",
       "20.500000    0.042823\n",
       "17.000000    0.038712\n",
       "               ...   \n",
       "58.960576    0.000343\n",
       "76.500000    0.000343\n",
       "64.000000    0.000343\n",
       "1.500000     0.000343\n",
       "76.000000    0.000343\n",
       "Name: Total_rooms, Length: 118, dtype: float64"
      ]
     },
     "execution_count": 160,
     "metadata": {},
     "output_type": "execute_result"
    }
   ],
   "source": [
    "df['Total_rooms'].value_counts(normalize=True)"
   ]
  },
  {
   "cell_type": "code",
   "execution_count": 161,
   "metadata": {},
   "outputs": [],
   "source": [
    "#Rounding numbers to nearest integers\n",
    "round_lst = ['Neighborhood','HouseStyle','MasVnrType','Foundation','KitchenQual','GarageType',\n",
    "        'Garage_cond','Fireplace_cond','Bsmt_cond','Bsmt_type','Overall_cond','Heat_cond','lot_cond']\n",
    "for i in range(len(df)):\n",
    "    for l in round_lst:\n",
    "        df[l][i] = int(round(df[l][i]))\n",
    "    "
   ]
  },
  {
   "cell_type": "code",
   "execution_count": 162,
   "metadata": {},
   "outputs": [
    {
     "data": {
      "text/html": [
       "<div>\n",
       "<style scoped>\n",
       "    .dataframe tbody tr th:only-of-type {\n",
       "        vertical-align: middle;\n",
       "    }\n",
       "\n",
       "    .dataframe tbody tr th {\n",
       "        vertical-align: top;\n",
       "    }\n",
       "\n",
       "    .dataframe thead th {\n",
       "        text-align: right;\n",
       "    }\n",
       "</style>\n",
       "<table border=\"1\" class=\"dataframe\">\n",
       "  <thead>\n",
       "    <tr style=\"text-align: right;\">\n",
       "      <th></th>\n",
       "      <th>MSSubClass</th>\n",
       "      <th>Neighborhood</th>\n",
       "      <th>HouseStyle</th>\n",
       "      <th>MasVnrType</th>\n",
       "      <th>MasVnrArea</th>\n",
       "      <th>Foundation</th>\n",
       "      <th>KitchenQual</th>\n",
       "      <th>GarageType</th>\n",
       "      <th>GarageYrBlt</th>\n",
       "      <th>Total_rooms</th>\n",
       "      <th>Garage_cond</th>\n",
       "      <th>Fireplace_cond</th>\n",
       "      <th>Bsmt_cond</th>\n",
       "      <th>Bsmt_type</th>\n",
       "      <th>Total_sft</th>\n",
       "      <th>Overall_cond</th>\n",
       "      <th>Per_car_area</th>\n",
       "      <th>Heat_cond</th>\n",
       "      <th>Porch</th>\n",
       "      <th>Tot_lot_area</th>\n",
       "      <th>lot_cond</th>\n",
       "      <th>Fin_bsmt</th>\n",
       "      <th>House_months</th>\n",
       "      <th>Ext_type</th>\n",
       "    </tr>\n",
       "  </thead>\n",
       "  <tbody>\n",
       "    <tr>\n",
       "      <th>0</th>\n",
       "      <td>3</td>\n",
       "      <td>5.0</td>\n",
       "      <td>5.0</td>\n",
       "      <td>1.0</td>\n",
       "      <td>196.0</td>\n",
       "      <td>2.0</td>\n",
       "      <td>2.0</td>\n",
       "      <td>1.0</td>\n",
       "      <td>4</td>\n",
       "      <td>27.5</td>\n",
       "      <td>16.0</td>\n",
       "      <td>0.0</td>\n",
       "      <td>6.0</td>\n",
       "      <td>7.0</td>\n",
       "      <td>3420</td>\n",
       "      <td>21.0</td>\n",
       "      <td>274.000000</td>\n",
       "      <td>1.0</td>\n",
       "      <td>61</td>\n",
       "      <td>8515.0</td>\n",
       "      <td>7.0</td>\n",
       "      <td>706.0</td>\n",
       "      <td>61</td>\n",
       "      <td>2</td>\n",
       "    </tr>\n",
       "    <tr>\n",
       "      <th>1</th>\n",
       "      <td>1</td>\n",
       "      <td>24.0</td>\n",
       "      <td>2.0</td>\n",
       "      <td>2.0</td>\n",
       "      <td>0.0</td>\n",
       "      <td>1.0</td>\n",
       "      <td>3.0</td>\n",
       "      <td>1.0</td>\n",
       "      <td>3</td>\n",
       "      <td>20.5</td>\n",
       "      <td>16.0</td>\n",
       "      <td>4.0</td>\n",
       "      <td>6.0</td>\n",
       "      <td>5.0</td>\n",
       "      <td>2524</td>\n",
       "      <td>34.0</td>\n",
       "      <td>230.000000</td>\n",
       "      <td>1.0</td>\n",
       "      <td>298</td>\n",
       "      <td>9680.0</td>\n",
       "      <td>5.0</td>\n",
       "      <td>978.0</td>\n",
       "      <td>374</td>\n",
       "      <td>1</td>\n",
       "    </tr>\n",
       "    <tr>\n",
       "      <th>2</th>\n",
       "      <td>3</td>\n",
       "      <td>5.0</td>\n",
       "      <td>5.0</td>\n",
       "      <td>1.0</td>\n",
       "      <td>162.0</td>\n",
       "      <td>2.0</td>\n",
       "      <td>2.0</td>\n",
       "      <td>1.0</td>\n",
       "      <td>4</td>\n",
       "      <td>21.5</td>\n",
       "      <td>16.0</td>\n",
       "      <td>4.0</td>\n",
       "      <td>6.0</td>\n",
       "      <td>7.0</td>\n",
       "      <td>3572</td>\n",
       "      <td>21.0</td>\n",
       "      <td>304.000000</td>\n",
       "      <td>1.0</td>\n",
       "      <td>42</td>\n",
       "      <td>11318.0</td>\n",
       "      <td>4.0</td>\n",
       "      <td>486.0</td>\n",
       "      <td>75</td>\n",
       "      <td>2</td>\n",
       "    </tr>\n",
       "    <tr>\n",
       "      <th>3</th>\n",
       "      <td>3</td>\n",
       "      <td>6.0</td>\n",
       "      <td>5.0</td>\n",
       "      <td>2.0</td>\n",
       "      <td>0.0</td>\n",
       "      <td>0.0</td>\n",
       "      <td>2.0</td>\n",
       "      <td>5.0</td>\n",
       "      <td>3</td>\n",
       "      <td>23.0</td>\n",
       "      <td>32.0</td>\n",
       "      <td>2.0</td>\n",
       "      <td>3.0</td>\n",
       "      <td>5.0</td>\n",
       "      <td>3434</td>\n",
       "      <td>21.0</td>\n",
       "      <td>214.000000</td>\n",
       "      <td>3.0</td>\n",
       "      <td>307</td>\n",
       "      <td>9610.0</td>\n",
       "      <td>0.0</td>\n",
       "      <td>216.0</td>\n",
       "      <td>433</td>\n",
       "      <td>2</td>\n",
       "    </tr>\n",
       "    <tr>\n",
       "      <th>4</th>\n",
       "      <td>3</td>\n",
       "      <td>15.0</td>\n",
       "      <td>5.0</td>\n",
       "      <td>1.0</td>\n",
       "      <td>350.0</td>\n",
       "      <td>2.0</td>\n",
       "      <td>2.0</td>\n",
       "      <td>1.0</td>\n",
       "      <td>3</td>\n",
       "      <td>39.5</td>\n",
       "      <td>16.0</td>\n",
       "      <td>4.0</td>\n",
       "      <td>6.0</td>\n",
       "      <td>7.0</td>\n",
       "      <td>4396</td>\n",
       "      <td>21.0</td>\n",
       "      <td>278.666667</td>\n",
       "      <td>1.0</td>\n",
       "      <td>276</td>\n",
       "      <td>14344.0</td>\n",
       "      <td>2.0</td>\n",
       "      <td>655.0</td>\n",
       "      <td>100</td>\n",
       "      <td>2</td>\n",
       "    </tr>\n",
       "    <tr>\n",
       "      <th>...</th>\n",
       "      <td>...</td>\n",
       "      <td>...</td>\n",
       "      <td>...</td>\n",
       "      <td>...</td>\n",
       "      <td>...</td>\n",
       "      <td>...</td>\n",
       "      <td>...</td>\n",
       "      <td>...</td>\n",
       "      <td>...</td>\n",
       "      <td>...</td>\n",
       "      <td>...</td>\n",
       "      <td>...</td>\n",
       "      <td>...</td>\n",
       "      <td>...</td>\n",
       "      <td>...</td>\n",
       "      <td>...</td>\n",
       "      <td>...</td>\n",
       "      <td>...</td>\n",
       "      <td>...</td>\n",
       "      <td>...</td>\n",
       "      <td>...</td>\n",
       "      <td>...</td>\n",
       "      <td>...</td>\n",
       "      <td>...</td>\n",
       "    </tr>\n",
       "    <tr>\n",
       "      <th>2914</th>\n",
       "      <td>5</td>\n",
       "      <td>10.0</td>\n",
       "      <td>5.0</td>\n",
       "      <td>2.0</td>\n",
       "      <td>0.0</td>\n",
       "      <td>1.0</td>\n",
       "      <td>3.0</td>\n",
       "      <td>2.0</td>\n",
       "      <td>3</td>\n",
       "      <td>16.5</td>\n",
       "      <td>18.0</td>\n",
       "      <td>0.0</td>\n",
       "      <td>9.0</td>\n",
       "      <td>10.0</td>\n",
       "      <td>2184</td>\n",
       "      <td>10.0</td>\n",
       "      <td>0.000000</td>\n",
       "      <td>3.0</td>\n",
       "      <td>0</td>\n",
       "      <td>1957.0</td>\n",
       "      <td>7.0</td>\n",
       "      <td>0.0</td>\n",
       "      <td>434</td>\n",
       "      <td>1</td>\n",
       "    </tr>\n",
       "    <tr>\n",
       "      <th>2915</th>\n",
       "      <td>5</td>\n",
       "      <td>10.0</td>\n",
       "      <td>5.0</td>\n",
       "      <td>2.0</td>\n",
       "      <td>0.0</td>\n",
       "      <td>1.0</td>\n",
       "      <td>3.0</td>\n",
       "      <td>4.0</td>\n",
       "      <td>3</td>\n",
       "      <td>19.5</td>\n",
       "      <td>32.0</td>\n",
       "      <td>0.0</td>\n",
       "      <td>9.0</td>\n",
       "      <td>9.0</td>\n",
       "      <td>2184</td>\n",
       "      <td>7.0</td>\n",
       "      <td>286.000000</td>\n",
       "      <td>5.0</td>\n",
       "      <td>24</td>\n",
       "      <td>1915.0</td>\n",
       "      <td>7.0</td>\n",
       "      <td>252.0</td>\n",
       "      <td>434</td>\n",
       "      <td>1</td>\n",
       "    </tr>\n",
       "    <tr>\n",
       "      <th>2916</th>\n",
       "      <td>1</td>\n",
       "      <td>11.0</td>\n",
       "      <td>2.0</td>\n",
       "      <td>2.0</td>\n",
       "      <td>0.0</td>\n",
       "      <td>1.0</td>\n",
       "      <td>3.0</td>\n",
       "      <td>5.0</td>\n",
       "      <td>3</td>\n",
       "      <td>30.0</td>\n",
       "      <td>32.0</td>\n",
       "      <td>4.0</td>\n",
       "      <td>9.0</td>\n",
       "      <td>5.0</td>\n",
       "      <td>2448</td>\n",
       "      <td>20.0</td>\n",
       "      <td>288.000000</td>\n",
       "      <td>1.0</td>\n",
       "      <td>474</td>\n",
       "      <td>20160.0</td>\n",
       "      <td>7.0</td>\n",
       "      <td>1224.0</td>\n",
       "      <td>123</td>\n",
       "      <td>2</td>\n",
       "    </tr>\n",
       "    <tr>\n",
       "      <th>2917</th>\n",
       "      <td>4</td>\n",
       "      <td>11.0</td>\n",
       "      <td>6.0</td>\n",
       "      <td>2.0</td>\n",
       "      <td>0.0</td>\n",
       "      <td>2.0</td>\n",
       "      <td>3.0</td>\n",
       "      <td>2.0</td>\n",
       "      <td>3</td>\n",
       "      <td>19.5</td>\n",
       "      <td>18.0</td>\n",
       "      <td>0.0</td>\n",
       "      <td>6.0</td>\n",
       "      <td>7.0</td>\n",
       "      <td>1940</td>\n",
       "      <td>20.0</td>\n",
       "      <td>0.000000</td>\n",
       "      <td>5.0</td>\n",
       "      <td>112</td>\n",
       "      <td>10503.0</td>\n",
       "      <td>7.0</td>\n",
       "      <td>337.0</td>\n",
       "      <td>171</td>\n",
       "      <td>2</td>\n",
       "    </tr>\n",
       "    <tr>\n",
       "      <th>2918</th>\n",
       "      <td>3</td>\n",
       "      <td>11.0</td>\n",
       "      <td>5.0</td>\n",
       "      <td>1.0</td>\n",
       "      <td>94.0</td>\n",
       "      <td>2.0</td>\n",
       "      <td>3.0</td>\n",
       "      <td>1.0</td>\n",
       "      <td>3</td>\n",
       "      <td>29.5</td>\n",
       "      <td>0.0</td>\n",
       "      <td>4.0</td>\n",
       "      <td>6.0</td>\n",
       "      <td>8.0</td>\n",
       "      <td>4000</td>\n",
       "      <td>21.0</td>\n",
       "      <td>216.666667</td>\n",
       "      <td>1.0</td>\n",
       "      <td>238</td>\n",
       "      <td>9701.0</td>\n",
       "      <td>7.0</td>\n",
       "      <td>758.0</td>\n",
       "      <td>148</td>\n",
       "      <td>1</td>\n",
       "    </tr>\n",
       "  </tbody>\n",
       "</table>\n",
       "<p>2919 rows × 24 columns</p>\n",
       "</div>"
      ],
      "text/plain": [
       "      MSSubClass  Neighborhood  HouseStyle  MasVnrType  MasVnrArea  \\\n",
       "0              3           5.0         5.0         1.0       196.0   \n",
       "1              1          24.0         2.0         2.0         0.0   \n",
       "2              3           5.0         5.0         1.0       162.0   \n",
       "3              3           6.0         5.0         2.0         0.0   \n",
       "4              3          15.0         5.0         1.0       350.0   \n",
       "...          ...           ...         ...         ...         ...   \n",
       "2914           5          10.0         5.0         2.0         0.0   \n",
       "2915           5          10.0         5.0         2.0         0.0   \n",
       "2916           1          11.0         2.0         2.0         0.0   \n",
       "2917           4          11.0         6.0         2.0         0.0   \n",
       "2918           3          11.0         5.0         1.0        94.0   \n",
       "\n",
       "      Foundation  KitchenQual  GarageType  GarageYrBlt  Total_rooms  \\\n",
       "0            2.0          2.0         1.0            4         27.5   \n",
       "1            1.0          3.0         1.0            3         20.5   \n",
       "2            2.0          2.0         1.0            4         21.5   \n",
       "3            0.0          2.0         5.0            3         23.0   \n",
       "4            2.0          2.0         1.0            3         39.5   \n",
       "...          ...          ...         ...          ...          ...   \n",
       "2914         1.0          3.0         2.0            3         16.5   \n",
       "2915         1.0          3.0         4.0            3         19.5   \n",
       "2916         1.0          3.0         5.0            3         30.0   \n",
       "2917         2.0          3.0         2.0            3         19.5   \n",
       "2918         2.0          3.0         1.0            3         29.5   \n",
       "\n",
       "      Garage_cond  Fireplace_cond  Bsmt_cond  Bsmt_type  Total_sft  \\\n",
       "0            16.0             0.0        6.0        7.0       3420   \n",
       "1            16.0             4.0        6.0        5.0       2524   \n",
       "2            16.0             4.0        6.0        7.0       3572   \n",
       "3            32.0             2.0        3.0        5.0       3434   \n",
       "4            16.0             4.0        6.0        7.0       4396   \n",
       "...           ...             ...        ...        ...        ...   \n",
       "2914         18.0             0.0        9.0       10.0       2184   \n",
       "2915         32.0             0.0        9.0        9.0       2184   \n",
       "2916         32.0             4.0        9.0        5.0       2448   \n",
       "2917         18.0             0.0        6.0        7.0       1940   \n",
       "2918          0.0             4.0        6.0        8.0       4000   \n",
       "\n",
       "      Overall_cond  Per_car_area  Heat_cond  Porch  Tot_lot_area  lot_cond  \\\n",
       "0             21.0    274.000000        1.0     61        8515.0       7.0   \n",
       "1             34.0    230.000000        1.0    298        9680.0       5.0   \n",
       "2             21.0    304.000000        1.0     42       11318.0       4.0   \n",
       "3             21.0    214.000000        3.0    307        9610.0       0.0   \n",
       "4             21.0    278.666667        1.0    276       14344.0       2.0   \n",
       "...            ...           ...        ...    ...           ...       ...   \n",
       "2914          10.0      0.000000        3.0      0        1957.0       7.0   \n",
       "2915           7.0    286.000000        5.0     24        1915.0       7.0   \n",
       "2916          20.0    288.000000        1.0    474       20160.0       7.0   \n",
       "2917          20.0      0.000000        5.0    112       10503.0       7.0   \n",
       "2918          21.0    216.666667        1.0    238        9701.0       7.0   \n",
       "\n",
       "      Fin_bsmt  House_months  Ext_type  \n",
       "0        706.0            61         2  \n",
       "1        978.0           374         1  \n",
       "2        486.0            75         2  \n",
       "3        216.0           433         2  \n",
       "4        655.0           100         2  \n",
       "...        ...           ...       ...  \n",
       "2914       0.0           434         1  \n",
       "2915     252.0           434         1  \n",
       "2916    1224.0           123         2  \n",
       "2917     337.0           171         2  \n",
       "2918     758.0           148         1  \n",
       "\n",
       "[2919 rows x 24 columns]"
      ]
     },
     "execution_count": 162,
     "metadata": {},
     "output_type": "execute_result"
    }
   ],
   "source": [
    "df"
   ]
  },
  {
   "cell_type": "code",
   "execution_count": null,
   "metadata": {},
   "outputs": [],
   "source": []
  },
  {
   "cell_type": "markdown",
   "metadata": {},
   "source": [
    "### Removing Outliers"
   ]
  },
  {
   "cell_type": "code",
   "execution_count": 163,
   "metadata": {},
   "outputs": [],
   "source": [
    "for col in df.columns:\n",
    "    q1 = df[col].quantile(0.25)\n",
    "    median = df[col].quantile(0.50)\n",
    "    q3 = df[col].quantile(0.75)\n",
    "    \n",
    "    iqr = q3-q1 \n",
    "    low  = q1-1.5*iqr\n",
    "    high = q3+1.5*iqr\n",
    "    \n",
    "    df[col] = np.where(df[col] < low , median,df[col])\n",
    "    df[col] = np.where(df[col] > high, median,df[col])"
   ]
  },
  {
   "cell_type": "code",
   "execution_count": 164,
   "metadata": {},
   "outputs": [
    {
     "data": {
      "text/html": [
       "<div>\n",
       "<style scoped>\n",
       "    .dataframe tbody tr th:only-of-type {\n",
       "        vertical-align: middle;\n",
       "    }\n",
       "\n",
       "    .dataframe tbody tr th {\n",
       "        vertical-align: top;\n",
       "    }\n",
       "\n",
       "    .dataframe thead th {\n",
       "        text-align: right;\n",
       "    }\n",
       "</style>\n",
       "<table border=\"1\" class=\"dataframe\">\n",
       "  <thead>\n",
       "    <tr style=\"text-align: right;\">\n",
       "      <th></th>\n",
       "      <th>MSSubClass</th>\n",
       "      <th>Neighborhood</th>\n",
       "      <th>HouseStyle</th>\n",
       "      <th>MasVnrType</th>\n",
       "      <th>MasVnrArea</th>\n",
       "      <th>Foundation</th>\n",
       "      <th>KitchenQual</th>\n",
       "      <th>GarageType</th>\n",
       "      <th>GarageYrBlt</th>\n",
       "      <th>Total_rooms</th>\n",
       "      <th>Garage_cond</th>\n",
       "      <th>Fireplace_cond</th>\n",
       "      <th>Bsmt_cond</th>\n",
       "      <th>Bsmt_type</th>\n",
       "      <th>Total_sft</th>\n",
       "      <th>Overall_cond</th>\n",
       "      <th>Per_car_area</th>\n",
       "      <th>Heat_cond</th>\n",
       "      <th>Porch</th>\n",
       "      <th>Tot_lot_area</th>\n",
       "      <th>lot_cond</th>\n",
       "      <th>Fin_bsmt</th>\n",
       "      <th>House_months</th>\n",
       "      <th>Ext_type</th>\n",
       "    </tr>\n",
       "  </thead>\n",
       "  <tbody>\n",
       "    <tr>\n",
       "      <th>count</th>\n",
       "      <td>2919.000000</td>\n",
       "      <td>2919.000000</td>\n",
       "      <td>2919.000000</td>\n",
       "      <td>2919.000000</td>\n",
       "      <td>2919.000000</td>\n",
       "      <td>2919.000000</td>\n",
       "      <td>2919.000000</td>\n",
       "      <td>2919.000000</td>\n",
       "      <td>2919.000000</td>\n",
       "      <td>2919.000000</td>\n",
       "      <td>2919.000000</td>\n",
       "      <td>2919.000000</td>\n",
       "      <td>2919.000000</td>\n",
       "      <td>2919.000000</td>\n",
       "      <td>2919.000000</td>\n",
       "      <td>2919.000000</td>\n",
       "      <td>2919.000000</td>\n",
       "      <td>2919.000000</td>\n",
       "      <td>2919.000000</td>\n",
       "      <td>2919.000000</td>\n",
       "      <td>2919.000000</td>\n",
       "      <td>2919.000000</td>\n",
       "      <td>2919.000000</td>\n",
       "      <td>2919.000000</td>\n",
       "    </tr>\n",
       "    <tr>\n",
       "      <th>mean</th>\n",
       "      <td>2.347037</td>\n",
       "      <td>12.437136</td>\n",
       "      <td>3.026721</td>\n",
       "      <td>1.767044</td>\n",
       "      <td>60.345882</td>\n",
       "      <td>1.375128</td>\n",
       "      <td>2.557383</td>\n",
       "      <td>2.268585</td>\n",
       "      <td>3.126413</td>\n",
       "      <td>19.925475</td>\n",
       "      <td>17.399794</td>\n",
       "      <td>1.348407</td>\n",
       "      <td>7.022268</td>\n",
       "      <td>7.425831</td>\n",
       "      <td>2914.866735</td>\n",
       "      <td>19.699212</td>\n",
       "      <td>265.243281</td>\n",
       "      <td>2.559096</td>\n",
       "      <td>153.280233</td>\n",
       "      <td>9288.344190</td>\n",
       "      <td>5.003426</td>\n",
       "      <td>480.808155</td>\n",
       "      <td>284.779034</td>\n",
       "      <td>1.644399</td>\n",
       "    </tr>\n",
       "    <tr>\n",
       "      <th>std</th>\n",
       "      <td>1.391674</td>\n",
       "      <td>5.957992</td>\n",
       "      <td>1.912937</td>\n",
       "      <td>0.605433</td>\n",
       "      <td>101.772849</td>\n",
       "      <td>0.693709</td>\n",
       "      <td>0.542927</td>\n",
       "      <td>1.742646</td>\n",
       "      <td>0.611281</td>\n",
       "      <td>7.122192</td>\n",
       "      <td>12.655671</td>\n",
       "      <td>1.615835</td>\n",
       "      <td>1.802781</td>\n",
       "      <td>2.146110</td>\n",
       "      <td>855.898203</td>\n",
       "      <td>5.298942</td>\n",
       "      <td>43.153239</td>\n",
       "      <td>1.765517</td>\n",
       "      <td>128.707146</td>\n",
       "      <td>3176.982797</td>\n",
       "      <td>2.328708</td>\n",
       "      <td>449.442585</td>\n",
       "      <td>250.648989</td>\n",
       "      <td>0.478777</td>\n",
       "    </tr>\n",
       "    <tr>\n",
       "      <th>min</th>\n",
       "      <td>1.000000</td>\n",
       "      <td>0.000000</td>\n",
       "      <td>0.000000</td>\n",
       "      <td>0.000000</td>\n",
       "      <td>0.000000</td>\n",
       "      <td>0.000000</td>\n",
       "      <td>1.000000</td>\n",
       "      <td>0.000000</td>\n",
       "      <td>2.000000</td>\n",
       "      <td>1.500000</td>\n",
       "      <td>0.000000</td>\n",
       "      <td>0.000000</td>\n",
       "      <td>2.000000</td>\n",
       "      <td>1.000000</td>\n",
       "      <td>668.000000</td>\n",
       "      <td>6.000000</td>\n",
       "      <td>132.000000</td>\n",
       "      <td>1.000000</td>\n",
       "      <td>0.000000</td>\n",
       "      <td>1491.000000</td>\n",
       "      <td>0.000000</td>\n",
       "      <td>0.000000</td>\n",
       "      <td>1.000000</td>\n",
       "      <td>1.000000</td>\n",
       "    </tr>\n",
       "    <tr>\n",
       "      <th>25%</th>\n",
       "      <td>1.000000</td>\n",
       "      <td>7.000000</td>\n",
       "      <td>2.000000</td>\n",
       "      <td>1.000000</td>\n",
       "      <td>0.000000</td>\n",
       "      <td>1.000000</td>\n",
       "      <td>2.000000</td>\n",
       "      <td>1.000000</td>\n",
       "      <td>3.000000</td>\n",
       "      <td>15.000000</td>\n",
       "      <td>2.000000</td>\n",
       "      <td>0.000000</td>\n",
       "      <td>6.000000</td>\n",
       "      <td>6.000000</td>\n",
       "      <td>2248.000000</td>\n",
       "      <td>17.000000</td>\n",
       "      <td>238.000000</td>\n",
       "      <td>1.000000</td>\n",
       "      <td>39.000000</td>\n",
       "      <td>7550.500000</td>\n",
       "      <td>4.000000</td>\n",
       "      <td>0.000000</td>\n",
       "      <td>51.500000</td>\n",
       "      <td>1.000000</td>\n",
       "    </tr>\n",
       "    <tr>\n",
       "      <th>50%</th>\n",
       "      <td>2.000000</td>\n",
       "      <td>12.000000</td>\n",
       "      <td>2.000000</td>\n",
       "      <td>2.000000</td>\n",
       "      <td>0.000000</td>\n",
       "      <td>1.000000</td>\n",
       "      <td>3.000000</td>\n",
       "      <td>1.000000</td>\n",
       "      <td>3.000000</td>\n",
       "      <td>20.000000</td>\n",
       "      <td>16.000000</td>\n",
       "      <td>0.000000</td>\n",
       "      <td>6.000000</td>\n",
       "      <td>7.000000</td>\n",
       "      <td>2882.000000</td>\n",
       "      <td>21.000000</td>\n",
       "      <td>262.666667</td>\n",
       "      <td>1.000000</td>\n",
       "      <td>141.000000</td>\n",
       "      <td>9519.305795</td>\n",
       "      <td>7.000000</td>\n",
       "      <td>458.000000</td>\n",
       "      <td>183.000000</td>\n",
       "      <td>2.000000</td>\n",
       "    </tr>\n",
       "    <tr>\n",
       "      <th>75%</th>\n",
       "      <td>3.000000</td>\n",
       "      <td>17.000000</td>\n",
       "      <td>5.000000</td>\n",
       "      <td>2.000000</td>\n",
       "      <td>102.201312</td>\n",
       "      <td>2.000000</td>\n",
       "      <td>3.000000</td>\n",
       "      <td>5.000000</td>\n",
       "      <td>4.000000</td>\n",
       "      <td>23.500000</td>\n",
       "      <td>32.000000</td>\n",
       "      <td>2.000000</td>\n",
       "      <td>9.000000</td>\n",
       "      <td>10.000000</td>\n",
       "      <td>3425.000000</td>\n",
       "      <td>21.000000</td>\n",
       "      <td>288.000000</td>\n",
       "      <td>5.000000</td>\n",
       "      <td>238.000000</td>\n",
       "      <td>11135.500000</td>\n",
       "      <td>7.000000</td>\n",
       "      <td>795.500000</td>\n",
       "      <td>517.000000</td>\n",
       "      <td>2.000000</td>\n",
       "    </tr>\n",
       "    <tr>\n",
       "      <th>max</th>\n",
       "      <td>5.000000</td>\n",
       "      <td>24.000000</td>\n",
       "      <td>7.000000</td>\n",
       "      <td>3.000000</td>\n",
       "      <td>408.000000</td>\n",
       "      <td>3.000000</td>\n",
       "      <td>3.000000</td>\n",
       "      <td>5.000000</td>\n",
       "      <td>4.000000</td>\n",
       "      <td>38.500000</td>\n",
       "      <td>32.000000</td>\n",
       "      <td>6.000000</td>\n",
       "      <td>9.000000</td>\n",
       "      <td>10.000000</td>\n",
       "      <td>5336.000000</td>\n",
       "      <td>30.000000</td>\n",
       "      <td>393.000000</td>\n",
       "      <td>9.000000</td>\n",
       "      <td>549.000000</td>\n",
       "      <td>17792.000000</td>\n",
       "      <td>7.000000</td>\n",
       "      <td>1972.000000</td>\n",
       "      <td>723.000000</td>\n",
       "      <td>2.000000</td>\n",
       "    </tr>\n",
       "  </tbody>\n",
       "</table>\n",
       "</div>"
      ],
      "text/plain": [
       "        MSSubClass  Neighborhood   HouseStyle   MasVnrType   MasVnrArea  \\\n",
       "count  2919.000000   2919.000000  2919.000000  2919.000000  2919.000000   \n",
       "mean      2.347037     12.437136     3.026721     1.767044    60.345882   \n",
       "std       1.391674      5.957992     1.912937     0.605433   101.772849   \n",
       "min       1.000000      0.000000     0.000000     0.000000     0.000000   \n",
       "25%       1.000000      7.000000     2.000000     1.000000     0.000000   \n",
       "50%       2.000000     12.000000     2.000000     2.000000     0.000000   \n",
       "75%       3.000000     17.000000     5.000000     2.000000   102.201312   \n",
       "max       5.000000     24.000000     7.000000     3.000000   408.000000   \n",
       "\n",
       "        Foundation  KitchenQual   GarageType  GarageYrBlt  Total_rooms  \\\n",
       "count  2919.000000  2919.000000  2919.000000  2919.000000  2919.000000   \n",
       "mean      1.375128     2.557383     2.268585     3.126413    19.925475   \n",
       "std       0.693709     0.542927     1.742646     0.611281     7.122192   \n",
       "min       0.000000     1.000000     0.000000     2.000000     1.500000   \n",
       "25%       1.000000     2.000000     1.000000     3.000000    15.000000   \n",
       "50%       1.000000     3.000000     1.000000     3.000000    20.000000   \n",
       "75%       2.000000     3.000000     5.000000     4.000000    23.500000   \n",
       "max       3.000000     3.000000     5.000000     4.000000    38.500000   \n",
       "\n",
       "       Garage_cond  Fireplace_cond    Bsmt_cond    Bsmt_type    Total_sft  \\\n",
       "count  2919.000000     2919.000000  2919.000000  2919.000000  2919.000000   \n",
       "mean     17.399794        1.348407     7.022268     7.425831  2914.866735   \n",
       "std      12.655671        1.615835     1.802781     2.146110   855.898203   \n",
       "min       0.000000        0.000000     2.000000     1.000000   668.000000   \n",
       "25%       2.000000        0.000000     6.000000     6.000000  2248.000000   \n",
       "50%      16.000000        0.000000     6.000000     7.000000  2882.000000   \n",
       "75%      32.000000        2.000000     9.000000    10.000000  3425.000000   \n",
       "max      32.000000        6.000000     9.000000    10.000000  5336.000000   \n",
       "\n",
       "       Overall_cond  Per_car_area    Heat_cond        Porch  Tot_lot_area  \\\n",
       "count   2919.000000   2919.000000  2919.000000  2919.000000   2919.000000   \n",
       "mean      19.699212    265.243281     2.559096   153.280233   9288.344190   \n",
       "std        5.298942     43.153239     1.765517   128.707146   3176.982797   \n",
       "min        6.000000    132.000000     1.000000     0.000000   1491.000000   \n",
       "25%       17.000000    238.000000     1.000000    39.000000   7550.500000   \n",
       "50%       21.000000    262.666667     1.000000   141.000000   9519.305795   \n",
       "75%       21.000000    288.000000     5.000000   238.000000  11135.500000   \n",
       "max       30.000000    393.000000     9.000000   549.000000  17792.000000   \n",
       "\n",
       "          lot_cond     Fin_bsmt  House_months     Ext_type  \n",
       "count  2919.000000  2919.000000   2919.000000  2919.000000  \n",
       "mean      5.003426   480.808155    284.779034     1.644399  \n",
       "std       2.328708   449.442585    250.648989     0.478777  \n",
       "min       0.000000     0.000000      1.000000     1.000000  \n",
       "25%       4.000000     0.000000     51.500000     1.000000  \n",
       "50%       7.000000   458.000000    183.000000     2.000000  \n",
       "75%       7.000000   795.500000    517.000000     2.000000  \n",
       "max       7.000000  1972.000000    723.000000     2.000000  "
      ]
     },
     "execution_count": 164,
     "metadata": {},
     "output_type": "execute_result"
    }
   ],
   "source": [
    "df.describe()"
   ]
  },
  {
   "cell_type": "code",
   "execution_count": 165,
   "metadata": {},
   "outputs": [
    {
     "data": {
      "text/plain": [
       "<AxesSubplot:xlabel='Total_rooms'>"
      ]
     },
     "execution_count": 165,
     "metadata": {},
     "output_type": "execute_result"
    },
    {
     "data": {
      "image/png": "[encoded data removed]",
      "text/plain": [
       "<Figure size 2520x2520 with 1 Axes>"
      ]
     },
     "metadata": {
      "needs_background": "light"
     },
     "output_type": "display_data"
    }
   ],
   "source": [
    "sns.boxplot(x=df['Total_rooms'])"
   ]
  },
  {
   "cell_type": "markdown",
   "metadata": {},
   "source": [
    "### Finding Key importances"
   ]
  },
  {
   "cell_type": "code",
   "execution_count": 166,
   "metadata": {},
   "outputs": [],
   "source": [
    "rfr = RandomForestRegressor(random_state=0)"
   ]
  },
  {
   "cell_type": "code",
   "execution_count": 167,
   "metadata": {},
   "outputs": [
    {
     "data": {
      "text/plain": [
       "RandomForestRegressor(random_state=0)"
      ]
     },
     "execution_count": 167,
     "metadata": {},
     "output_type": "execute_result"
    }
   ],
   "source": [
    "rfr.fit(df[:1460],y)"
   ]
  },
  {
   "cell_type": "code",
   "execution_count": 168,
   "metadata": {},
   "outputs": [],
   "source": [
    "key_col ={}\n",
    "imp = rfr.feature_importances_.tolist() *100\n",
    "for i in range(len(df.columns)-1):\n",
    "    key_col[df.columns[i]]= imp[i]\n",
    "            "
   ]
  },
  {
   "cell_type": "code",
   "execution_count": 169,
   "metadata": {},
   "outputs": [
    {
     "data": {
      "text/plain": [
       "{'MSSubClass': 0.006146089751652169,\n",
       " 'Neighborhood': 0.03700666034183854,\n",
       " 'HouseStyle': 0.0058411607130906115,\n",
       " 'MasVnrType': 0.006613171360052748,\n",
       " 'MasVnrArea': 0.008476224525829858,\n",
       " 'Foundation': 0.007547436882681746,\n",
       " 'KitchenQual': 0.01315155975036101,\n",
       " 'GarageType': 0.029491106837761717,\n",
       " 'GarageYrBlt': 0.016416847115693252,\n",
       " 'Total_rooms': 0.012044203631401061,\n",
       " 'Garage_cond': 0.015718322705616603,\n",
       " 'Fireplace_cond': 0.007520251172307719,\n",
       " 'Bsmt_cond': 0.005960864420664063,\n",
       " 'Bsmt_type': 0.00516545440220428,\n",
       " 'Total_sft': 0.4414032196284583,\n",
       " 'Overall_cond': 0.017742108529347676,\n",
       " 'Per_car_area': 0.01522695997750989,\n",
       " 'Heat_cond': 0.006575290382381913,\n",
       " 'Porch': 0.030277426363517858,\n",
       " 'Tot_lot_area': 0.05042177029039659,\n",
       " 'lot_cond': 0.012167471212166416,\n",
       " 'Fin_bsmt': 0.10809377488180015,\n",
       " 'House_months': 0.1385003398904553}"
      ]
     },
     "execution_count": 169,
     "metadata": {},
     "output_type": "execute_result"
    }
   ],
   "source": [
    "key_col"
   ]
  },
  {
   "cell_type": "code",
   "execution_count": null,
   "metadata": {},
   "outputs": [],
   "source": []
  },
  {
   "cell_type": "code",
   "execution_count": 170,
   "metadata": {},
   "outputs": [],
   "source": [
    "new_keys={}\n",
    "new_key_lst = []\n",
    "for i in key_col.keys():\n",
    "    if key_col[i] > 0.01:\n",
    "        new_key_lst.append(i)\n",
    "        new_keys[i] = key_col[i]\n",
    "        "
   ]
  },
  {
   "cell_type": "code",
   "execution_count": 171,
   "metadata": {},
   "outputs": [
    {
     "data": {
      "text/plain": [
       "['Neighborhood',\n",
       " 'KitchenQual',\n",
       " 'GarageType',\n",
       " 'GarageYrBlt',\n",
       " 'Total_rooms',\n",
       " 'Garage_cond',\n",
       " 'Total_sft',\n",
       " 'Overall_cond',\n",
       " 'Per_car_area',\n",
       " 'Porch',\n",
       " 'Tot_lot_area',\n",
       " 'lot_cond',\n",
       " 'Fin_bsmt',\n",
       " 'House_months']"
      ]
     },
     "execution_count": 171,
     "metadata": {},
     "output_type": "execute_result"
    }
   ],
   "source": [
    "new_key_lst"
   ]
  },
  {
   "cell_type": "code",
   "execution_count": null,
   "metadata": {},
   "outputs": [],
   "source": []
  },
  {
   "cell_type": "markdown",
   "metadata": {},
   "source": [
    "### Heat Map"
   ]
  },
  {
   "cell_type": "code",
   "execution_count": 172,
   "metadata": {},
   "outputs": [],
   "source": [
    "heat_df = pd.concat([df[:1460],y],axis=1)"
   ]
  },
  {
   "cell_type": "code",
   "execution_count": 173,
   "metadata": {},
   "outputs": [
    {
     "data": {
      "image/png": "[encoded data removed]",
      "text/plain": [
       "<Figure size 2520x2520 with 2 Axes>"
      ]
     },
     "metadata": {
      "needs_background": "light"
     },
     "output_type": "display_data"
    }
   ],
   "source": [
    "plt.rcParams['figure.figsize']=35,35\n",
    "g = sns.heatmap(heat_df.corr(),annot=True, fmt = \".1f\")"
   ]
  },
  {
   "cell_type": "code",
   "execution_count": 174,
   "metadata": {
    "scrolled": false
   },
   "outputs": [
    {
     "data": {
      "text/plain": [
       "SalePrice         1.000000\n",
       "Total_sft         0.597713\n",
       "GarageYrBlt       0.433536\n",
       "Foundation        0.406639\n",
       "Tot_lot_area      0.404789\n",
       "Overall_cond      0.357322\n",
       "Porch             0.344433\n",
       "Fin_bsmt          0.341670\n",
       "Fireplace_cond    0.317717\n",
       "Total_rooms       0.314193\n",
       "MasVnrArea        0.234464\n",
       "Neighborhood      0.210851\n",
       "HouseStyle        0.180163\n",
       "Ext_type          0.145217\n",
       "MSSubClass        0.062669\n",
       "Per_car_area      0.049765\n",
       "MasVnrType        0.018216\n",
       "Bsmt_type        -0.030962\n",
       "KitchenQual      -0.194846\n",
       "lot_cond         -0.197879\n",
       "GarageType       -0.337403\n",
       "Bsmt_cond        -0.340292\n",
       "Heat_cond        -0.409854\n",
       "Garage_cond      -0.431404\n",
       "House_months     -0.508976\n",
       "Name: SalePrice, dtype: float64"
      ]
     },
     "execution_count": 174,
     "metadata": {},
     "output_type": "execute_result"
    }
   ],
   "source": [
    "core = heat_df.corr()\n",
    "core[\"SalePrice\"].sort_values(ascending=False)"
   ]
  },
  {
   "cell_type": "code",
   "execution_count": 175,
   "metadata": {},
   "outputs": [],
   "source": [
    "test1 = ['lot_cond', 'Total_sft', 'Total_rooms', 'Tot_lot_area',\n",
    "       'Porch', 'Overall_cond', 'Neighborhood',\n",
    "       'MasVnrArea', 'KitchenQual', 'House_months',\n",
    "       'Heat_cond', 'Garage_cond', 'GarageYrBlt', 'GarageType', 'Foundation',\n",
    "       'Fireplace_cond', 'Fin_bsmt', 'Bsmt_cond']"
   ]
  },
  {
   "cell_type": "code",
   "execution_count": null,
   "metadata": {},
   "outputs": [],
   "source": []
  },
  {
   "cell_type": "code",
   "execution_count": 176,
   "metadata": {},
   "outputs": [],
   "source": [
    "df = df[new_key_lst]"
   ]
  },
  {
   "cell_type": "code",
   "execution_count": 177,
   "metadata": {},
   "outputs": [
    {
     "data": {
      "text/plain": [
       "(2919, 14)"
      ]
     },
     "execution_count": 177,
     "metadata": {},
     "output_type": "execute_result"
    }
   ],
   "source": [
    "df.shape"
   ]
  },
  {
   "cell_type": "markdown",
   "metadata": {},
   "source": [
    "### Normalization"
   ]
  },
  {
   "cell_type": "code",
   "execution_count": 178,
   "metadata": {},
   "outputs": [],
   "source": [
    "scaler = MinMaxScaler()\n",
    "norm_df = scaler.fit_transform(df)"
   ]
  },
  {
   "cell_type": "markdown",
   "metadata": {},
   "source": [
    "### Standardization"
   ]
  },
  {
   "cell_type": "code",
   "execution_count": 179,
   "metadata": {},
   "outputs": [],
   "source": [
    "scaler = StandardScaler()\n",
    "scaler.fit(df)\n",
    "scaled_df = scaler.fit_transform(df)"
   ]
  },
  {
   "cell_type": "code",
   "execution_count": null,
   "metadata": {},
   "outputs": [],
   "source": []
  },
  {
   "cell_type": "code",
   "execution_count": null,
   "metadata": {},
   "outputs": [],
   "source": []
  },
  {
   "cell_type": "code",
   "execution_count": 180,
   "metadata": {},
   "outputs": [],
   "source": [
    "new_train = df[:1460]\n",
    "new_test = df[1460:]"
   ]
  },
  {
   "cell_type": "code",
   "execution_count": 181,
   "metadata": {},
   "outputs": [],
   "source": [
    "x_tr, x_te, y_tr, y_te = train_test_split(new_train,y,test_size=0.2,random_state=0)"
   ]
  },
  {
   "cell_type": "markdown",
   "metadata": {},
   "source": [
    "### Random Forest "
   ]
  },
  {
   "cell_type": "code",
   "execution_count": 182,
   "metadata": {},
   "outputs": [
    {
     "data": {
      "text/plain": [
       "0.17430186116709193"
      ]
     },
     "execution_count": 182,
     "metadata": {},
     "output_type": "execute_result"
    }
   ],
   "source": [
    "rfreg = RandomForestRegressor(random_state = 1,n_estimators=200)\n",
    "rfreg.fit(x_tr, y_tr)\n",
    "rf_pred = rfreg.predict(x_te)\n",
    "rmse = math.sqrt(mean_squared_error(np.log(y_te), np.log(rf_pred)))\n",
    "rmse"
   ]
  },
  {
   "cell_type": "markdown",
   "metadata": {},
   "source": [
    "### Gradient Boosting"
   ]
  },
  {
   "cell_type": "code",
   "execution_count": 183,
   "metadata": {},
   "outputs": [
    {
     "data": {
      "text/plain": [
       "0.1699525167932793"
      ]
     },
     "execution_count": 183,
     "metadata": {},
     "output_type": "execute_result"
    }
   ],
   "source": [
    "gbreg = GradientBoostingRegressor(random_state=0)\n",
    "gbreg.fit(x_tr, y_tr)\n",
    "gb_pred = gbreg.predict(x_te)\n",
    "rmse = math.sqrt(mean_squared_error(np.log(y_te), np.log(gb_pred)))\n",
    "rmse"
   ]
  },
  {
   "cell_type": "code",
   "execution_count": null,
   "metadata": {},
   "outputs": [],
   "source": []
  },
  {
   "cell_type": "code",
   "execution_count": null,
   "metadata": {},
   "outputs": [],
   "source": []
  },
  {
   "cell_type": "code",
   "execution_count": 122,
   "metadata": {},
   "outputs": [],
   "source": [
    "rfpred = rfreg.predict(new_test)"
   ]
  },
  {
   "cell_type": "code",
   "execution_count": 123,
   "metadata": {},
   "outputs": [],
   "source": [
    "gbpred = gbreg.predict(new_test)"
   ]
  },
  {
   "cell_type": "code",
   "execution_count": 124,
   "metadata": {},
   "outputs": [],
   "source": [
    "result = pd.DataFrame({'rf' : rfpred,'gb':gbpred}, columns=['rf','gb'])"
   ]
  },
  {
   "cell_type": "code",
   "execution_count": 125,
   "metadata": {},
   "outputs": [
    {
     "data": {
      "text/html": [
       "<div>\n",
       "<style scoped>\n",
       "    .dataframe tbody tr th:only-of-type {\n",
       "        vertical-align: middle;\n",
       "    }\n",
       "\n",
       "    .dataframe tbody tr th {\n",
       "        vertical-align: top;\n",
       "    }\n",
       "\n",
       "    .dataframe thead th {\n",
       "        text-align: right;\n",
       "    }\n",
       "</style>\n",
       "<table border=\"1\" class=\"dataframe\">\n",
       "  <thead>\n",
       "    <tr style=\"text-align: right;\">\n",
       "      <th></th>\n",
       "      <th>rf</th>\n",
       "      <th>gb</th>\n",
       "    </tr>\n",
       "  </thead>\n",
       "  <tbody>\n",
       "    <tr>\n",
       "      <th>0</th>\n",
       "      <td>119821.665000</td>\n",
       "      <td>127124.163032</td>\n",
       "    </tr>\n",
       "    <tr>\n",
       "      <th>1</th>\n",
       "      <td>162412.250000</td>\n",
       "      <td>168131.786664</td>\n",
       "    </tr>\n",
       "    <tr>\n",
       "      <th>2</th>\n",
       "      <td>201689.500000</td>\n",
       "      <td>199972.151921</td>\n",
       "    </tr>\n",
       "    <tr>\n",
       "      <th>3</th>\n",
       "      <td>186546.250000</td>\n",
       "      <td>190703.982643</td>\n",
       "    </tr>\n",
       "    <tr>\n",
       "      <th>4</th>\n",
       "      <td>167856.775000</td>\n",
       "      <td>176810.551276</td>\n",
       "    </tr>\n",
       "    <tr>\n",
       "      <th>...</th>\n",
       "      <td>...</td>\n",
       "      <td>...</td>\n",
       "    </tr>\n",
       "    <tr>\n",
       "      <th>1454</th>\n",
       "      <td>90533.480000</td>\n",
       "      <td>76146.788256</td>\n",
       "    </tr>\n",
       "    <tr>\n",
       "      <th>1455</th>\n",
       "      <td>101142.006667</td>\n",
       "      <td>90243.176260</td>\n",
       "    </tr>\n",
       "    <tr>\n",
       "      <th>1456</th>\n",
       "      <td>152425.195000</td>\n",
       "      <td>207124.428514</td>\n",
       "    </tr>\n",
       "    <tr>\n",
       "      <th>1457</th>\n",
       "      <td>104989.150000</td>\n",
       "      <td>116788.286240</td>\n",
       "    </tr>\n",
       "    <tr>\n",
       "      <th>1458</th>\n",
       "      <td>226512.475000</td>\n",
       "      <td>216204.964819</td>\n",
       "    </tr>\n",
       "  </tbody>\n",
       "</table>\n",
       "<p>1459 rows × 2 columns</p>\n",
       "</div>"
      ],
      "text/plain": [
       "                 rf             gb\n",
       "0     119821.665000  127124.163032\n",
       "1     162412.250000  168131.786664\n",
       "2     201689.500000  199972.151921\n",
       "3     186546.250000  190703.982643\n",
       "4     167856.775000  176810.551276\n",
       "...             ...            ...\n",
       "1454   90533.480000   76146.788256\n",
       "1455  101142.006667   90243.176260\n",
       "1456  152425.195000  207124.428514\n",
       "1457  104989.150000  116788.286240\n",
       "1458  226512.475000  216204.964819\n",
       "\n",
       "[1459 rows x 2 columns]"
      ]
     },
     "execution_count": 125,
     "metadata": {},
     "output_type": "execute_result"
    }
   ],
   "source": [
    "result"
   ]
  },
  {
   "cell_type": "code",
   "execution_count": 126,
   "metadata": {},
   "outputs": [],
   "source": [
    "final_lst = []\n",
    "for i in range(len(result)):\n",
    "    val = math.exp((math.log(result['rf'][i]) + (math.log(result['gb'][i]))) / 2 )\n",
    "    final_lst.append(val)\n",
    "    \n",
    "result['Final'] = final_lst"
   ]
  },
  {
   "cell_type": "markdown",
   "metadata": {},
   "source": [
    "y3 = exp(  (log(y1) + log(y2)) / 2 )"
   ]
  },
  {
   "cell_type": "code",
   "execution_count": 127,
   "metadata": {},
   "outputs": [
    {
     "data": {
      "text/html": [
       "<div>\n",
       "<style scoped>\n",
       "    .dataframe tbody tr th:only-of-type {\n",
       "        vertical-align: middle;\n",
       "    }\n",
       "\n",
       "    .dataframe tbody tr th {\n",
       "        vertical-align: top;\n",
       "    }\n",
       "\n",
       "    .dataframe thead th {\n",
       "        text-align: right;\n",
       "    }\n",
       "</style>\n",
       "<table border=\"1\" class=\"dataframe\">\n",
       "  <thead>\n",
       "    <tr style=\"text-align: right;\">\n",
       "      <th></th>\n",
       "      <th>rf</th>\n",
       "      <th>gb</th>\n",
       "      <th>Final</th>\n",
       "    </tr>\n",
       "  </thead>\n",
       "  <tbody>\n",
       "    <tr>\n",
       "      <th>0</th>\n",
       "      <td>119821.665000</td>\n",
       "      <td>127124.163032</td>\n",
       "      <td>123418.916201</td>\n",
       "    </tr>\n",
       "    <tr>\n",
       "      <th>1</th>\n",
       "      <td>162412.250000</td>\n",
       "      <td>168131.786664</td>\n",
       "      <td>165247.274618</td>\n",
       "    </tr>\n",
       "    <tr>\n",
       "      <th>2</th>\n",
       "      <td>201689.500000</td>\n",
       "      <td>199972.151921</td>\n",
       "      <td>200828.990275</td>\n",
       "    </tr>\n",
       "    <tr>\n",
       "      <th>3</th>\n",
       "      <td>186546.250000</td>\n",
       "      <td>190703.982643</td>\n",
       "      <td>188613.660221</td>\n",
       "    </tr>\n",
       "    <tr>\n",
       "      <th>4</th>\n",
       "      <td>167856.775000</td>\n",
       "      <td>176810.551276</td>\n",
       "      <td>172275.502969</td>\n",
       "    </tr>\n",
       "    <tr>\n",
       "      <th>...</th>\n",
       "      <td>...</td>\n",
       "      <td>...</td>\n",
       "      <td>...</td>\n",
       "    </tr>\n",
       "    <tr>\n",
       "      <th>1454</th>\n",
       "      <td>90533.480000</td>\n",
       "      <td>76146.788256</td>\n",
       "      <td>83029.113759</td>\n",
       "    </tr>\n",
       "    <tr>\n",
       "      <th>1455</th>\n",
       "      <td>101142.006667</td>\n",
       "      <td>90243.176260</td>\n",
       "      <td>95537.301275</td>\n",
       "    </tr>\n",
       "    <tr>\n",
       "      <th>1456</th>\n",
       "      <td>152425.195000</td>\n",
       "      <td>207124.428514</td>\n",
       "      <td>177682.248426</td>\n",
       "    </tr>\n",
       "    <tr>\n",
       "      <th>1457</th>\n",
       "      <td>104989.150000</td>\n",
       "      <td>116788.286240</td>\n",
       "      <td>110731.670728</td>\n",
       "    </tr>\n",
       "    <tr>\n",
       "      <th>1458</th>\n",
       "      <td>226512.475000</td>\n",
       "      <td>216204.964819</td>\n",
       "      <td>221298.715966</td>\n",
       "    </tr>\n",
       "  </tbody>\n",
       "</table>\n",
       "<p>1459 rows × 3 columns</p>\n",
       "</div>"
      ],
      "text/plain": [
       "                 rf             gb          Final\n",
       "0     119821.665000  127124.163032  123418.916201\n",
       "1     162412.250000  168131.786664  165247.274618\n",
       "2     201689.500000  199972.151921  200828.990275\n",
       "3     186546.250000  190703.982643  188613.660221\n",
       "4     167856.775000  176810.551276  172275.502969\n",
       "...             ...            ...            ...\n",
       "1454   90533.480000   76146.788256   83029.113759\n",
       "1455  101142.006667   90243.176260   95537.301275\n",
       "1456  152425.195000  207124.428514  177682.248426\n",
       "1457  104989.150000  116788.286240  110731.670728\n",
       "1458  226512.475000  216204.964819  221298.715966\n",
       "\n",
       "[1459 rows x 3 columns]"
      ]
     },
     "execution_count": 127,
     "metadata": {},
     "output_type": "execute_result"
    }
   ],
   "source": [
    "result"
   ]
  },
  {
   "cell_type": "code",
   "execution_count": null,
   "metadata": {},
   "outputs": [],
   "source": []
  },
  {
   "cell_type": "code",
   "execution_count": 63,
   "metadata": {},
   "outputs": [],
   "source": [
    "output_df = pd.DataFrame(data={'Id':test_df['Id'].tolist(),'SalePrice':result['Final']})"
   ]
  },
  {
   "cell_type": "code",
   "execution_count": 64,
   "metadata": {},
   "outputs": [],
   "source": [
    "output_df.to_csv('Submission.csv',index=False)"
   ]
  },
  {
   "cell_type": "code",
   "execution_count": 65,
   "metadata": {},
   "outputs": [
    {
     "data": {
      "text/html": [
       "<div>\n",
       "<style scoped>\n",
       "    .dataframe tbody tr th:only-of-type {\n",
       "        vertical-align: middle;\n",
       "    }\n",
       "\n",
       "    .dataframe tbody tr th {\n",
       "        vertical-align: top;\n",
       "    }\n",
       "\n",
       "    .dataframe thead th {\n",
       "        text-align: right;\n",
       "    }\n",
       "</style>\n",
       "<table border=\"1\" class=\"dataframe\">\n",
       "  <thead>\n",
       "    <tr style=\"text-align: right;\">\n",
       "      <th></th>\n",
       "      <th>Id</th>\n",
       "      <th>SalePrice</th>\n",
       "    </tr>\n",
       "  </thead>\n",
       "  <tbody>\n",
       "    <tr>\n",
       "      <th>0</th>\n",
       "      <td>1461</td>\n",
       "      <td>131308.822708</td>\n",
       "    </tr>\n",
       "    <tr>\n",
       "      <th>1</th>\n",
       "      <td>1462</td>\n",
       "      <td>171959.794867</td>\n",
       "    </tr>\n",
       "    <tr>\n",
       "      <th>2</th>\n",
       "      <td>1463</td>\n",
       "      <td>194912.298053</td>\n",
       "    </tr>\n",
       "    <tr>\n",
       "      <th>3</th>\n",
       "      <td>1464</td>\n",
       "      <td>194192.330824</td>\n",
       "    </tr>\n",
       "    <tr>\n",
       "      <th>4</th>\n",
       "      <td>1465</td>\n",
       "      <td>164767.508687</td>\n",
       "    </tr>\n",
       "    <tr>\n",
       "      <th>...</th>\n",
       "      <td>...</td>\n",
       "      <td>...</td>\n",
       "    </tr>\n",
       "    <tr>\n",
       "      <th>1454</th>\n",
       "      <td>2915</td>\n",
       "      <td>80932.207516</td>\n",
       "    </tr>\n",
       "    <tr>\n",
       "      <th>1455</th>\n",
       "      <td>2916</td>\n",
       "      <td>90047.517572</td>\n",
       "    </tr>\n",
       "    <tr>\n",
       "      <th>1456</th>\n",
       "      <td>2917</td>\n",
       "      <td>181625.497073</td>\n",
       "    </tr>\n",
       "    <tr>\n",
       "      <th>1457</th>\n",
       "      <td>2918</td>\n",
       "      <td>110355.007011</td>\n",
       "    </tr>\n",
       "    <tr>\n",
       "      <th>1458</th>\n",
       "      <td>2919</td>\n",
       "      <td>219602.972070</td>\n",
       "    </tr>\n",
       "  </tbody>\n",
       "</table>\n",
       "<p>1459 rows × 2 columns</p>\n",
       "</div>"
      ],
      "text/plain": [
       "        Id      SalePrice\n",
       "0     1461  131308.822708\n",
       "1     1462  171959.794867\n",
       "2     1463  194912.298053\n",
       "3     1464  194192.330824\n",
       "4     1465  164767.508687\n",
       "...    ...            ...\n",
       "1454  2915   80932.207516\n",
       "1455  2916   90047.517572\n",
       "1456  2917  181625.497073\n",
       "1457  2918  110355.007011\n",
       "1458  2919  219602.972070\n",
       "\n",
       "[1459 rows x 2 columns]"
      ]
     },
     "execution_count": 65,
     "metadata": {},
     "output_type": "execute_result"
    }
   ],
   "source": [
    "output_df"
   ]
  },
  {
   "cell_type": "code",
   "execution_count": null,
   "metadata": {},
   "outputs": [],
   "source": []
  }
 ],
 "metadata": {
  "kernelspec": {
   "display_name": "Python 3",
   "language": "python",
   "name": "python3"
  },
  "language_info": {
   "codemirror_mode": {
    "name": "ipython",
    "version": 3
   },
   "file_extension": ".py",
   "mimetype": "text/x-python",
   "name": "python",
   "nbconvert_exporter": "python",
   "pygments_lexer": "ipython3",
   "version": "3.8.5"
  }
 },
 "nbformat": 4,
 "nbformat_minor": 4
}
